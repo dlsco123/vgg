{
 "cells": [
  {
   "cell_type": "code",
   "execution_count": 2,
   "metadata": {},
   "outputs": [],
   "source": [
    "from tensorflow.keras.models import load_model\n",
    "from tensorflow.keras.applications.vgg16 import preprocess_input\n",
    "from tensorflow.keras.preprocessing import image\n",
    "from glob import glob\n",
    "import numpy as np\n",
    "import os\n",
    "import shutil"
   ]
  },
  {
   "cell_type": "code",
   "execution_count": 4,
   "metadata": {},
   "outputs": [],
   "source": [
    "# Load the model\n",
    "model = load_model('my_puppy.h5')"
   ]
  },
  {
   "cell_type": "code",
   "execution_count": 8,
   "metadata": {},
   "outputs": [],
   "source": [
    "# Define base and output directories\n",
    "base_dir = 'd:/vgg/img/puppy/'\n",
    "output_dir = 'd:/vgg/puppy/img_sorted/'\n",
    "\n",
    "# Get list of image files\n",
    "file_list = glob(base_dir + '*.jpg')\n",
    "\n",
    "for file in file_list:\n",
    "    # Load and preprocess the image\n",
    "    img = image.load_img(file, target_size=(160,160))  # Change target_size to 160x160\n",
    "    img = image.img_to_array(img)\n",
    "    img = np.expand_dims(img, axis=0)\n",
    "    img = preprocess_input(img)\n",
    "\n",
    "    # Predict the label of the image\n",
    "    yhat = model.predict(img)\n",
    "    pred = 'dog' if yhat[0][0] > 0.5 else 'cat'   # Assuming your model outputs a single sigmoid unit\n",
    "\n",
    "    # Create a new directory for this label if it doesn't exist\n",
    "    new_dir = os.path.join(output_dir, pred)\n",
    "    os.makedirs(new_dir, exist_ok=True)\n",
    "\n",
    "    # Form the new filename\n",
    "    base_filename = os.path.basename(file)\n",
    "    new_filename = f\"{base_filename}_{pred}.jpg\"\n",
    "\n",
    "    # Move and rename the file\n",
    "    new_path = os.path.join(new_dir, new_filename)\n",
    "    shutil.move(file, new_path)"
   ]
  },
  {
   "cell_type": "code",
   "execution_count": 9,
   "metadata": {},
   "outputs": [
    {
     "name": "stdout",
     "output_type": "stream",
     "text": [
      "  Folder Name  File Count\n",
      "0         dog           1\n"
     ]
    }
   ],
   "source": [
    "import os\n",
    "import pandas as pd\n",
    "\n",
    "# Get directory names\n",
    "folder_path = 'd:/vgg/puppy/img_sorted/'\n",
    "folder_names = os.listdir(folder_path)\n",
    "\n",
    "# Prepare an empty dictionary to store folder names and their corresponding file counts\n",
    "data = {}\n",
    "\n",
    "# Iterate over each directory and count files in them\n",
    "for folder in folder_names:\n",
    "    folder_files = os.listdir(os.path.join(folder_path, folder))\n",
    "    data[folder] = len(folder_files)  # save the file count in the dictionary\n",
    "\n",
    "# Create a DataFrame from the dictionary\n",
    "df = pd.DataFrame(list(data.items()), columns=['Folder Name', 'File Count'])\n",
    "\n",
    "# Print the DataFrame\n",
    "print(df)"
   ]
  }
 ],
 "metadata": {
  "kernelspec": {
   "display_name": "gpu",
   "language": "python",
   "name": "python3"
  },
  "language_info": {
   "codemirror_mode": {
    "name": "ipython",
    "version": 3
   },
   "file_extension": ".py",
   "mimetype": "text/x-python",
   "name": "python",
   "nbconvert_exporter": "python",
   "pygments_lexer": "ipython3",
   "version": "3.9.16"
  },
  "orig_nbformat": 4
 },
 "nbformat": 4,
 "nbformat_minor": 2
}
