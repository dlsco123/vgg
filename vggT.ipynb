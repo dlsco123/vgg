{
 "cells": [
  {
   "cell_type": "code",
   "execution_count": null,
   "metadata": {},
   "outputs": [],
   "source": [
    "from tensorflow.keras.applications import vgg16\n",
    "model = vgg16.VGG16()           # 22,224,16,1000"
   ]
  },
  {
   "cell_type": "code",
   "execution_count": null,
   "metadata": {},
   "outputs": [],
   "source": [
    "from glob import glob\n",
    "from PIL import Image\n",
    "import numpy as np\n",
    "\n",
    "base = 'd:/vgg/img/*.jpg'\n",
    "fileList = glob(base)\n",
    "\n",
    "for file in fileList:\n",
    "    img = Image.open(file).resize((224,224)).convert('RGB')\n",
    "    img = np.array(img)\n",
    "    img = np.reshape(img, (1,224,224,3)) # 하나의 이미지 3개의 채널(R,G,B)\n",
    "    yhat = model.predict(img)   #1000개의 softmax로 출력\n",
    "\n",
    "    label = vgg16.decode_predictions(yhat)\n",
    "    label = label[0][0]\n",
    "    pred = label[1]\n",
    "    print(pred)"
   ]
  },
  {
   "cell_type": "code",
   "execution_count": null,
   "metadata": {},
   "outputs": [],
   "source": [
    "base='d:/vgg/*.jpg'\n",
    "fileList=glob(base)\n",
    "baseFolder='d:/vgg/'\n",
    "from datetime import datetime\n",
    "tmp=datetime.now()\n",
    "\n",
    "for file in fileList:\n",
    "    img=Image.open(file).resize((224,224)).convert('RGB')\n",
    "    img=np.array(img)\n",
    "    img=img.reshape(1,224,224,3)\n",
    "    yhat=model.predict(img)  #1000개의 softmax로 출력됨\n",
    "    label=vgg16.decode_predictions(yhat)\n",
    "    label=label[0][0]\n",
    "    pred=label[1]\n",
    "\n",
    "    newFolder=baseFolder + pred\n",
    "    try:\n",
    "        os.mkdir(newFolder)\n",
    "    except:\n",
    "        pass\n",
    "\n",
    "    shutil.move(file, newFolder)"
   ]
  },
  {
   "cell_type": "code",
   "execution_count": null,
   "metadata": {},
   "outputs": [],
   "source": [
    "import os\n",
    "import shutil\n",
    "import matplotlib.pyplot as plt\n",
    "import pandas as pd\n",
    "folderName,fileCnt=[],[]\n",
    "folderList=glob(baseFolder+'*')\n",
    "for folder in folderList:\n",
    "    cnt=len(glob(folder + '/*.jpg'))\n",
    "    folderName.append(folder.split('\\\\')[1])\n",
    "    fileCnt.append(cnt)\n",
    "\n",
    "\n",
    "df=pd.DataFrame({'folderName':folderName, 'fileCnt':fileCnt})\n",
    "df['ratio']=round((df['fileCnt']/df['fileCnt'].sum())*100,2)\n",
    "display(df.T)\n",
    "\n",
    "plt.barh(df['folderName'],df['fileCnt'])"
   ]
  }
 ],
 "metadata": {
  "language_info": {
   "name": "python"
  },
  "orig_nbformat": 4
 },
 "nbformat": 4,
 "nbformat_minor": 2
}
